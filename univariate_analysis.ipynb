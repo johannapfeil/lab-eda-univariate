{
 "cells": [
  {
   "cell_type": "markdown",
   "id": "23417617-3bee-425b-9eb1-b3587706d6a8",
   "metadata": {},
   "source": [
    "## Part 1: Analyzing Best-Seller Trends Across Product Categories\n",
    "Objective: Understand the relationship between product categories and their best-seller status.\n",
    "\n",
    "**1. Crosstab Analysis:**\n",
    "\n",
    "- Create a crosstab between the product category and the isBestSeller status.\n",
    "- Are there categories where being a best-seller is more prevalent?\n",
    "\n",
    "Hint: one option is to calculate the proportion of best-sellers for each category and then sort the categories based on this proportion in descending order."
   ]
  },
  {
   "cell_type": "code",
   "execution_count": 1,
   "id": "66bdf27a-9e0f-41e9-b953-fd1a3872107b",
   "metadata": {},
   "outputs": [],
   "source": [
    "import pandas as pd\n",
    "import matplotlib.pyplot as plt\n",
    "import seaborn as sns\n",
    "import numpy as np\n",
    "\n",
    "%matplotlib inline"
   ]
  },
  {
   "cell_type": "code",
   "execution_count": 2,
   "id": "42e767e5-41f6-4d7f-8429-4b9914df9373",
   "metadata": {},
   "outputs": [],
   "source": [
    "df = pd.read_csv('amz_uk_price_prediction_dataset.csv')"
   ]
  },
  {
   "cell_type": "code",
   "execution_count": 3,
   "id": "7ec0f5d2-e0e0-40cf-9699-77b05b9702e8",
   "metadata": {},
   "outputs": [
    {
     "data": {
      "text/html": [
       "<div>\n",
       "<style scoped>\n",
       "    .dataframe tbody tr th:only-of-type {\n",
       "        vertical-align: middle;\n",
       "    }\n",
       "\n",
       "    .dataframe tbody tr th {\n",
       "        vertical-align: top;\n",
       "    }\n",
       "\n",
       "    .dataframe thead th {\n",
       "        text-align: right;\n",
       "    }\n",
       "</style>\n",
       "<table border=\"1\" class=\"dataframe\">\n",
       "  <thead>\n",
       "    <tr style=\"text-align: right;\">\n",
       "      <th></th>\n",
       "      <th>uid</th>\n",
       "      <th>asin</th>\n",
       "      <th>title</th>\n",
       "      <th>stars</th>\n",
       "      <th>reviews</th>\n",
       "      <th>price</th>\n",
       "      <th>isBestSeller</th>\n",
       "      <th>boughtInLastMonth</th>\n",
       "      <th>category</th>\n",
       "    </tr>\n",
       "  </thead>\n",
       "  <tbody>\n",
       "    <tr>\n",
       "      <th>0</th>\n",
       "      <td>1</td>\n",
       "      <td>B09B96TG33</td>\n",
       "      <td>Echo Dot (5th generation, 2022 release) | Big ...</td>\n",
       "      <td>4.7</td>\n",
       "      <td>15308</td>\n",
       "      <td>21.99</td>\n",
       "      <td>False</td>\n",
       "      <td>0</td>\n",
       "      <td>Hi-Fi Speakers</td>\n",
       "    </tr>\n",
       "    <tr>\n",
       "      <th>1</th>\n",
       "      <td>2</td>\n",
       "      <td>B01HTH3C8S</td>\n",
       "      <td>Anker Soundcore mini, Super-Portable Bluetooth...</td>\n",
       "      <td>4.7</td>\n",
       "      <td>98099</td>\n",
       "      <td>23.99</td>\n",
       "      <td>True</td>\n",
       "      <td>0</td>\n",
       "      <td>Hi-Fi Speakers</td>\n",
       "    </tr>\n",
       "    <tr>\n",
       "      <th>2</th>\n",
       "      <td>3</td>\n",
       "      <td>B09B8YWXDF</td>\n",
       "      <td>Echo Dot (5th generation, 2022 release) | Big ...</td>\n",
       "      <td>4.7</td>\n",
       "      <td>15308</td>\n",
       "      <td>21.99</td>\n",
       "      <td>False</td>\n",
       "      <td>0</td>\n",
       "      <td>Hi-Fi Speakers</td>\n",
       "    </tr>\n",
       "    <tr>\n",
       "      <th>3</th>\n",
       "      <td>4</td>\n",
       "      <td>B09B8T5VGV</td>\n",
       "      <td>Echo Dot with clock (5th generation, 2022 rele...</td>\n",
       "      <td>4.7</td>\n",
       "      <td>7205</td>\n",
       "      <td>31.99</td>\n",
       "      <td>False</td>\n",
       "      <td>0</td>\n",
       "      <td>Hi-Fi Speakers</td>\n",
       "    </tr>\n",
       "    <tr>\n",
       "      <th>4</th>\n",
       "      <td>5</td>\n",
       "      <td>B09WX6QD65</td>\n",
       "      <td>Introducing Echo Pop | Full sound compact Wi-F...</td>\n",
       "      <td>4.6</td>\n",
       "      <td>1881</td>\n",
       "      <td>17.99</td>\n",
       "      <td>False</td>\n",
       "      <td>0</td>\n",
       "      <td>Hi-Fi Speakers</td>\n",
       "    </tr>\n",
       "  </tbody>\n",
       "</table>\n",
       "</div>"
      ],
      "text/plain": [
       "   uid        asin                                              title  stars  \\\n",
       "0    1  B09B96TG33  Echo Dot (5th generation, 2022 release) | Big ...    4.7   \n",
       "1    2  B01HTH3C8S  Anker Soundcore mini, Super-Portable Bluetooth...    4.7   \n",
       "2    3  B09B8YWXDF  Echo Dot (5th generation, 2022 release) | Big ...    4.7   \n",
       "3    4  B09B8T5VGV  Echo Dot with clock (5th generation, 2022 rele...    4.7   \n",
       "4    5  B09WX6QD65  Introducing Echo Pop | Full sound compact Wi-F...    4.6   \n",
       "\n",
       "   reviews  price  isBestSeller  boughtInLastMonth        category  \n",
       "0    15308  21.99         False                  0  Hi-Fi Speakers  \n",
       "1    98099  23.99          True                  0  Hi-Fi Speakers  \n",
       "2    15308  21.99         False                  0  Hi-Fi Speakers  \n",
       "3     7205  31.99         False                  0  Hi-Fi Speakers  \n",
       "4     1881  17.99         False                  0  Hi-Fi Speakers  "
      ]
     },
     "execution_count": 3,
     "metadata": {},
     "output_type": "execute_result"
    }
   ],
   "source": [
    "df.head()"
   ]
  },
  {
   "cell_type": "code",
   "execution_count": 26,
   "id": "b1381bad-52e0-4173-aa8f-bf04b4be23c1",
   "metadata": {},
   "outputs": [
    {
     "data": {
      "text/plain": [
       "Index(['uid', 'asin', 'title', 'stars', 'reviews', 'price', 'isBestSeller',\n",
       "       'boughtInLastMonth', 'category'],\n",
       "      dtype='object')"
      ]
     },
     "execution_count": 26,
     "metadata": {},
     "output_type": "execute_result"
    }
   ],
   "source": [
    "df.columns"
   ]
  },
  {
   "cell_type": "code",
   "execution_count": 48,
   "id": "0e553090-3442-4180-b533-dd1d98f215f8",
   "metadata": {},
   "outputs": [
    {
     "data": {
      "text/html": [
       "<div>\n",
       "<style scoped>\n",
       "    .dataframe tbody tr th:only-of-type {\n",
       "        vertical-align: middle;\n",
       "    }\n",
       "\n",
       "    .dataframe tbody tr th {\n",
       "        vertical-align: top;\n",
       "    }\n",
       "\n",
       "    .dataframe thead th {\n",
       "        text-align: right;\n",
       "    }\n",
       "</style>\n",
       "<table border=\"1\" class=\"dataframe\">\n",
       "  <thead>\n",
       "    <tr style=\"text-align: right;\">\n",
       "      <th>isBestSeller</th>\n",
       "      <th>False</th>\n",
       "      <th>True</th>\n",
       "      <th>Proportion</th>\n",
       "    </tr>\n",
       "    <tr>\n",
       "      <th>category</th>\n",
       "      <th></th>\n",
       "      <th></th>\n",
       "      <th></th>\n",
       "    </tr>\n",
       "  </thead>\n",
       "  <tbody>\n",
       "    <tr>\n",
       "      <th>3D Printers</th>\n",
       "      <td>247</td>\n",
       "      <td>1</td>\n",
       "      <td>0.002177</td>\n",
       "    </tr>\n",
       "    <tr>\n",
       "      <th>3D Printing &amp; Scanning</th>\n",
       "      <td>4065</td>\n",
       "      <td>2</td>\n",
       "      <td>0.000265</td>\n",
       "    </tr>\n",
       "    <tr>\n",
       "      <th>Abrasive &amp; Finishing Products</th>\n",
       "      <td>245</td>\n",
       "      <td>5</td>\n",
       "      <td>0.010972</td>\n",
       "    </tr>\n",
       "    <tr>\n",
       "      <th>Action Cameras</th>\n",
       "      <td>1696</td>\n",
       "      <td>1</td>\n",
       "      <td>0.000317</td>\n",
       "    </tr>\n",
       "    <tr>\n",
       "      <th>Adapters</th>\n",
       "      <td>251</td>\n",
       "      <td>3</td>\n",
       "      <td>0.006426</td>\n",
       "    </tr>\n",
       "    <tr>\n",
       "      <th>...</th>\n",
       "      <td>...</td>\n",
       "      <td>...</td>\n",
       "      <td>...</td>\n",
       "    </tr>\n",
       "    <tr>\n",
       "      <th>Wind Instruments</th>\n",
       "      <td>243</td>\n",
       "      <td>7</td>\n",
       "      <td>0.015487</td>\n",
       "    </tr>\n",
       "    <tr>\n",
       "      <th>Window Treatments</th>\n",
       "      <td>234</td>\n",
       "      <td>5</td>\n",
       "      <td>0.011488</td>\n",
       "    </tr>\n",
       "    <tr>\n",
       "      <th>Women</th>\n",
       "      <td>17559</td>\n",
       "      <td>213</td>\n",
       "      <td>0.006522</td>\n",
       "    </tr>\n",
       "    <tr>\n",
       "      <th>Women's Sports &amp; Outdoor Shoes</th>\n",
       "      <td>1939</td>\n",
       "      <td>20</td>\n",
       "      <td>0.005546</td>\n",
       "    </tr>\n",
       "    <tr>\n",
       "      <th>eBook Readers &amp; Accessories</th>\n",
       "      <td>246</td>\n",
       "      <td>0</td>\n",
       "      <td>0.000000</td>\n",
       "    </tr>\n",
       "  </tbody>\n",
       "</table>\n",
       "<p>296 rows × 3 columns</p>\n",
       "</div>"
      ],
      "text/plain": [
       "isBestSeller                    False  True  Proportion\n",
       "category                                               \n",
       "3D Printers                       247     1    0.002177\n",
       "3D Printing & Scanning           4065     2    0.000265\n",
       "Abrasive & Finishing Products     245     5    0.010972\n",
       "Action Cameras                   1696     1    0.000317\n",
       "Adapters                          251     3    0.006426\n",
       "...                               ...   ...         ...\n",
       "Wind Instruments                  243     7    0.015487\n",
       "Window Treatments                 234     5    0.011488\n",
       "Women                           17559   213    0.006522\n",
       "Women's Sports & Outdoor Shoes   1939    20    0.005546\n",
       "eBook Readers & Accessories       246     0    0.000000\n",
       "\n",
       "[296 rows x 3 columns]"
      ]
     },
     "execution_count": 48,
     "metadata": {},
     "output_type": "execute_result"
    }
   ],
   "source": [
    "cbt = pd.crosstab(df[\"category\"],df['isBestSeller'])\n",
    "cbt['Proportion'] = (cbt[True] / cbt[False]) # proportion of bestsellers for each category (unnormalized)\n",
    "cbt['Proportion'] = cbt['Proportion'] / cbt['Proportion'].sum()\n",
    "cbt"
   ]
  },
  {
   "cell_type": "code",
   "execution_count": 49,
   "id": "92c3ab41-d6af-4cd6-930f-52eb1ab62f65",
   "metadata": {},
   "outputs": [
    {
     "data": {
      "text/plain": [
       "1.0"
      ]
     },
     "execution_count": 49,
     "metadata": {},
     "output_type": "execute_result"
    }
   ],
   "source": [
    "cbt['Proportion'].sum() # check whether the sum equals 1"
   ]
  },
  {
   "cell_type": "code",
   "execution_count": 50,
   "id": "0e28d84c-a03d-444d-b67e-37157ae40c88",
   "metadata": {},
   "outputs": [
    {
     "name": "stdout",
     "output_type": "stream",
     "text": [
      "category\n",
      "Grocery                           0.033184\n",
      "Smart Home Security & Lighting    0.032917\n",
      "Health & Personal Care            0.032913\n",
      "Mobile Phone Accessories          0.023847\n",
      "Power & Hand Tools                0.019696\n",
      "Billiard, Snooker & Pool          0.017847\n",
      "Pet Supplies                      0.016742\n",
      "Home Brewing & Wine Making        0.015747\n",
      "Wind Instruments                  0.015487\n",
      "Mirrors                           0.015487\n",
      "Name: Proportion, dtype: float64\n"
     ]
    }
   ],
   "source": [
    "top_categories = cbt[\"Proportion\"].sort_values(ascending=False).head(10)\n",
    "print(top_categories)"
   ]
  },
  {
   "cell_type": "markdown",
   "id": "33057f03-0de1-47c9-92a5-bfb5fb2662c1",
   "metadata": {},
   "source": [
    "Products from the categories groceries, smart home security & lighting, health & personal care, mobile phone accessoires, and power & hand tools are more prevalent to be bestsellers than others."
   ]
  },
  {
   "cell_type": "markdown",
   "id": "b378abba-d461-425e-adab-09d99c128ebb",
   "metadata": {},
   "source": [
    "**2. Statistical Tests:**\n",
    "\n",
    "- Conduct a Chi-square test to determine if the best-seller distribution is independent of the product category.\n",
    "- Compute Cramér's V to understand the strength of association between best-seller status and category."
   ]
  },
  {
   "cell_type": "code",
   "execution_count": 5,
   "id": "e633cf34-3b33-4ee9-a181-718500507e03",
   "metadata": {},
   "outputs": [
    {
     "data": {
      "text/plain": [
       "(36540.20270061387, 0.0)"
      ]
     },
     "execution_count": 5,
     "metadata": {},
     "output_type": "execute_result"
    }
   ],
   "source": [
    "from scipy.stats import chi2_contingency\n",
    "\n",
    "chi2_statistic, chi2_p_value, _, _ = chi2_contingency(cbt)\n",
    "chi2_statistic, chi2_p_value"
   ]
  },
  {
   "cell_type": "code",
   "execution_count": 6,
   "id": "31e9a013-ad7b-4ebe-8db2-46e3d8509245",
   "metadata": {},
   "outputs": [
    {
     "data": {
      "text/plain": [
       "0.1222829439760564"
      ]
     },
     "execution_count": 6,
     "metadata": {},
     "output_type": "execute_result"
    }
   ],
   "source": [
    "from scipy.stats.contingency import association\n",
    "association(cbt, method = \"cramer\")"
   ]
  },
  {
   "cell_type": "markdown",
   "id": "042db675-3ec8-408f-b62e-f022b5d86246",
   "metadata": {},
   "source": [
    "The p-value and Cramer's value suggest that there is just a very week correlation between the category and bestseller columns."
   ]
  },
  {
   "cell_type": "markdown",
   "id": "0e5ac24f-dbb4-4786-b487-0c0ab25104be",
   "metadata": {},
   "source": [
    "**3. Visualizations:**\n",
    "\n",
    "Visualize the relationship between product categories and the best-seller status using a stacked bar chart."
   ]
  },
  {
   "cell_type": "code",
   "execution_count": 7,
   "id": "588e1d47-8eae-431d-bd18-037da7b4869b",
   "metadata": {},
   "outputs": [
    {
     "data": {
      "image/png": "[encoded data removed]",
      "text/plain": [
       "<Figure size 640x480 with 1 Axes>"
      ]
     },
     "metadata": {},
     "output_type": "display_data"
    }
   ],
   "source": [
    "top_categories.plot(kind = \"bar\", color = 'lightblue');"
   ]
  },
  {
   "cell_type": "markdown",
   "id": "52f321bf-1e6a-484d-84f4-80e5da869efc",
   "metadata": {},
   "source": [
    "## Part 2: Delving into Product Pricing\n",
    "Business Question: How are products priced on Amazon UK, and are there specific price points or ranges that are more common?\n",
    "\n",
    "**1. Measures of Centrality:**\n",
    "\n",
    "- Calculate the mean, median, and mode for the price of products.\n",
    "- What's the average price point of products listed? How does this compare with the most common price point (mode)?"
   ]
  },
  {
   "cell_type": "code",
   "execution_count": 8,
   "id": "51e6595b-6ca3-498c-9ce9-602fe64f019b",
   "metadata": {},
   "outputs": [
    {
     "data": {
      "text/plain": [
       "89.24380943923663"
      ]
     },
     "execution_count": 8,
     "metadata": {},
     "output_type": "execute_result"
    }
   ],
   "source": [
    "df['price'].mean() # mean price"
   ]
  },
  {
   "cell_type": "code",
   "execution_count": 9,
   "id": "b878fdf6-aed6-4589-95d2-5ca681690926",
   "metadata": {},
   "outputs": [
    {
     "data": {
      "text/plain": [
       "19.09"
      ]
     },
     "execution_count": 9,
     "metadata": {},
     "output_type": "execute_result"
    }
   ],
   "source": [
    "df['price'].median() # median price"
   ]
  },
  {
   "cell_type": "code",
   "execution_count": 8,
   "id": "51f8f3ac-6980-4c4b-ad35-303996fef591",
   "metadata": {},
   "outputs": [
    {
     "data": {
      "text/plain": [
       "9.99"
      ]
     },
     "execution_count": 8,
     "metadata": {},
     "output_type": "execute_result"
    }
   ],
   "source": [
    "df['price'].mode()[0] # most common price"
   ]
  },
  {
   "cell_type": "markdown",
   "id": "9b3be249-c3ce-4c07-9e09-796bf34b686d",
   "metadata": {},
   "source": [
    "The average price of products is way higher than the mode since just some high prices increase the average quiet a lot."
   ]
  },
  {
   "cell_type": "markdown",
   "id": "4c5a9ad4-2310-429f-9ea8-7ffa4855cb19",
   "metadata": {},
   "source": [
    "**2. Measures of Dispersion:**\n",
    "\n",
    "- Determine the variance, standard deviation, range, and interquartile range for product price.\n",
    "- How varied are the product prices? Are there any indicators of a significant spread in prices?"
   ]
  },
  {
   "cell_type": "code",
   "execution_count": 11,
   "id": "0103673b-32a6-4c78-90c7-2d6f13cefeae",
   "metadata": {},
   "outputs": [
    {
     "data": {
      "text/plain": [
       "119445.48532256528"
      ]
     },
     "execution_count": 11,
     "metadata": {},
     "output_type": "execute_result"
    }
   ],
   "source": [
    "df['price'].var() # variance of price"
   ]
  },
  {
   "cell_type": "code",
   "execution_count": 12,
   "id": "097055c4-047f-4192-9ba7-b3e652a03583",
   "metadata": {},
   "outputs": [
    {
     "data": {
      "text/plain": [
       "345.60886175352226"
      ]
     },
     "execution_count": 12,
     "metadata": {},
     "output_type": "execute_result"
    }
   ],
   "source": [
    "df['price'].std() # standard deviation of price"
   ]
  },
  {
   "cell_type": "code",
   "execution_count": 20,
   "id": "5cc1ed02-20d1-4d38-b4db-23d6207c211a",
   "metadata": {},
   "outputs": [
    {
     "data": {
      "text/plain": [
       "0.0"
      ]
     },
     "execution_count": 20,
     "metadata": {},
     "output_type": "execute_result"
    }
   ],
   "source": [
    "df['price'].min()"
   ]
  },
  {
   "cell_type": "code",
   "execution_count": 13,
   "id": "1c708134-bc1c-415e-984e-ca099bc6d3d9",
   "metadata": {},
   "outputs": [
    {
     "data": {
      "text/plain": [
       "100000.0"
      ]
     },
     "execution_count": 13,
     "metadata": {},
     "output_type": "execute_result"
    }
   ],
   "source": [
    "df['price'].max() - df['price'].min() # price range"
   ]
  },
  {
   "cell_type": "code",
   "execution_count": 14,
   "id": "4c4ee20d-c87c-4084-8eeb-05696f63068f",
   "metadata": {},
   "outputs": [
    {
     "data": {
      "text/plain": [
       "36.0"
      ]
     },
     "execution_count": 14,
     "metadata": {},
     "output_type": "execute_result"
    }
   ],
   "source": [
    "df['price'].quantile(0.75) - df['price'].quantile(0.25) # Interquartile price range"
   ]
  },
  {
   "cell_type": "markdown",
   "id": "3e9e0392-6e38-43f2-99bd-e7b9a7e30db0",
   "metadata": {},
   "source": [
    "The standard deviation of the price is extremely high. This is an indicator for a significant spread. The range of prices is 100,000, which partly explains the way higher average than median and mode."
   ]
  },
  {
   "cell_type": "markdown",
   "id": "0bd461bf-0759-4ca8-947e-efa95fef926d",
   "metadata": {},
   "source": [
    "**3. Visualizations:**\n",
    "\n",
    "- Is there a specific price range where most products fall? Plot a histogram to visualize the distribution of product prices. If its hard to read these diagrams, think why this is, and explain how it could be solved.\n",
    "- Are there products that are priced significantly higher than the rest? Use a box plot to showcase the spread and potential outliers in product pricing."
   ]
  },
  {
   "cell_type": "code",
   "execution_count": 27,
   "id": "20b6267a-759a-4ed3-a332-d421f205a94c",
   "metadata": {},
   "outputs": [
    {
     "data": {
      "image/png": "[encoded data removed]",
      "text/plain": [
       "<Figure size 640x480 with 1 Axes>"
      ]
     },
     "metadata": {},
     "output_type": "display_data"
    }
   ],
   "source": [
    "bins = np.logspace(np.log10(1e0), np.log10(df['price'].max()), num = 40)\n",
    "sns.histplot(df['price'], kde = False, bins = bins, color = \"salmon\");\n",
    "plt.xscale('log')"
   ]
  },
  {
   "cell_type": "markdown",
   "id": "08d16d44-6760-492a-b23d-7bafaee18c57",
   "metadata": {},
   "source": [
    "Values spanning over several magnitudes must be plotted on logarithmic axes, then there are no problems when plotting"
   ]
  },
  {
   "cell_type": "code",
   "execution_count": 16,
   "id": "f8bdb88a-9e24-4e0d-bb2f-00ba3896f5a9",
   "metadata": {},
   "outputs": [
    {
     "data": {
      "image/png": "[encoded data removed]",
      "text/plain": [
       "<Figure size 640x480 with 1 Axes>"
      ]
     },
     "metadata": {},
     "output_type": "display_data"
    }
   ],
   "source": [
    "sns.boxplot(data = df['price'], color = 'lightblue');\n",
    "plt.yscale('log')"
   ]
  },
  {
   "cell_type": "markdown",
   "id": "55ac9034-65d6-46e5-9793-813087c26bb0",
   "metadata": {},
   "source": [
    "Many upper outliers in the box plot show that there are many products that are significantly higher priced by a lot of upper outliers. The IQR lies between 10 and 60$."
   ]
  },
  {
   "cell_type": "markdown",
   "id": "ba2a0105-d6d6-4898-9a80-66493bd47c93",
   "metadata": {},
   "source": [
    "## Part 3: Unpacking Product Ratings\n",
    "Business Question: How do customers rate products on Amazon UK, and are there any patterns or tendencies in the ratings?\n",
    "\n",
    "**1. Measures of Centrality:**\n",
    "\n",
    "Calculate the mean, median, and mode for the rating of products.\n",
    "How do customers generally rate products?"
   ]
  },
  {
   "cell_type": "code",
   "execution_count": 32,
   "id": "8389a7de-f25e-4306-bf96-45872b7f5cc5",
   "metadata": {},
   "outputs": [
    {
     "data": {
      "text/plain": [
       "array([4.7, 4.6, 4.5, 4.8, 0. , 4.4, 4.3, 4.1, 4.9, 5. , 3.8, 3.6, 4. ,\n",
       "       4.2, 3. , 3.9, 2.5, 3.4, 3.7, 3.2, 3.3, 3.5, 2.7, 2.1, 1. , 3.1,\n",
       "       2. , 2.9, 2.8, 1.5, 2.2, 2.3, 2.6, 2.4, 1.4, 1.9, 1.8, 1.7, 1.6,\n",
       "       1.2, 1.3, 1.1])"
      ]
     },
     "execution_count": 32,
     "metadata": {},
     "output_type": "execute_result"
    }
   ],
   "source": [
    "df['stars'].unique()"
   ]
  },
  {
   "cell_type": "code",
   "execution_count": 46,
   "id": "818434cd-c0cc-4bea-bca4-a69e286563f8",
   "metadata": {},
   "outputs": [
    {
     "data": {
      "text/plain": [
       "stars\n",
       "0.0    1225641\n",
       "1.0       8484\n",
       "1.1          3\n",
       "1.2         23\n",
       "1.3         78\n",
       "1.4        149\n",
       "1.5        404\n",
       "1.6        147\n",
       "1.7        177\n",
       "1.8        249\n",
       "Name: count, dtype: int64"
      ]
     },
     "execution_count": 46,
     "metadata": {},
     "output_type": "execute_result"
    }
   ],
   "source": [
    "df['stars'].value_counts().sort_index(ascending = True).head(10)"
   ]
  },
  {
   "cell_type": "code",
   "execution_count": 28,
   "id": "9f950fb0-0162-4851-be6f-a9e155bd2f08",
   "metadata": {},
   "outputs": [
    {
     "data": {
      "text/plain": [
       "2.152836472966065"
      ]
     },
     "execution_count": 28,
     "metadata": {},
     "output_type": "execute_result"
    }
   ],
   "source": [
    "df['stars'].mean() # mean product rating"
   ]
  },
  {
   "cell_type": "code",
   "execution_count": 29,
   "id": "4ed2ae78-dc4e-4ed7-8028-e9f9f036a0b8",
   "metadata": {},
   "outputs": [
    {
     "data": {
      "text/plain": [
       "0.0"
      ]
     },
     "execution_count": 29,
     "metadata": {},
     "output_type": "execute_result"
    }
   ],
   "source": [
    "df['stars'].median() # median product rating"
   ]
  },
  {
   "cell_type": "code",
   "execution_count": 30,
   "id": "4092a94d-4b37-45fc-a2b7-ab960255777e",
   "metadata": {},
   "outputs": [
    {
     "data": {
      "text/plain": [
       "0    0.0\n",
       "Name: stars, dtype: float64"
      ]
     },
     "execution_count": 30,
     "metadata": {},
     "output_type": "execute_result"
    }
   ],
   "source": [
    "df['stars'].mode()[0] # most common product rating"
   ]
  },
  {
   "cell_type": "markdown",
   "id": "37a46a94-cb98-4bfe-9982-fadfc7255d16",
   "metadata": {},
   "source": [
    "The average product rating is 2.2. Way more than half of the ratings are zero stars, therefore the median and the mode are 0. There are products with up to 4.7 stars."
   ]
  },
  {
   "cell_type": "markdown",
   "id": "da3b3a08-2ae7-4e3d-813a-1f4573473f9a",
   "metadata": {},
   "source": [
    "**2. Measures of Dispersion:**\n",
    "\n",
    "Determine the variance, standard deviation, and interquartile range for product rating.\n",
    "Are the ratings consistent, or is there a wide variation in customer feedback?"
   ]
  },
  {
   "cell_type": "code",
   "execution_count": 47,
   "id": "791730f7-2bc8-4c04-9efc-1f64f20b1f15",
   "metadata": {},
   "outputs": [
    {
     "data": {
      "text/plain": [
       "4.81743402976196"
      ]
     },
     "execution_count": 47,
     "metadata": {},
     "output_type": "execute_result"
    }
   ],
   "source": [
    "df['stars'].var()"
   ]
  },
  {
   "cell_type": "code",
   "execution_count": 48,
   "id": "d0347b78-6cf9-4a28-93af-b1ad36f54fac",
   "metadata": {},
   "outputs": [
    {
     "data": {
      "text/plain": [
       "2.1948653785054697"
      ]
     },
     "execution_count": 48,
     "metadata": {},
     "output_type": "execute_result"
    }
   ],
   "source": [
    "df['stars'].std()"
   ]
  },
  {
   "cell_type": "code",
   "execution_count": 49,
   "id": "05c2c790-2a3b-4410-903a-cd0e1400be7c",
   "metadata": {},
   "outputs": [
    {
     "data": {
      "text/plain": [
       "4.4"
      ]
     },
     "execution_count": 49,
     "metadata": {},
     "output_type": "execute_result"
    }
   ],
   "source": [
    "df['stars'].quantile(0.75) - df['stars'].quantile(0.25) # Interquartile stars range"
   ]
  },
  {
   "cell_type": "markdown",
   "id": "addb5741-2930-4da8-93e3-0f6427fbaa21",
   "metadata": {},
   "source": [
    "There is a relatively wide range for product ratings, indicated by the standard deviation and big interquartile range. "
   ]
  },
  {
   "cell_type": "markdown",
   "id": "0bac6793-0188-4526-a6a9-d97e7103889e",
   "metadata": {},
   "source": [
    "**3. Shape of the Distribution:**\n",
    "\n",
    "Calculate the skewness and kurtosis for the rating column.\n",
    "Are the ratings normally distributed, or do they lean towards higher or lower values?"
   ]
  },
  {
   "cell_type": "code",
   "execution_count": 51,
   "id": "78dbc4dc-d090-4eee-8dbe-6676fa56748e",
   "metadata": {},
   "outputs": [
    {
     "name": "stdout",
     "output_type": "stream",
     "text": [
      "0.08120735761080985\n",
      "-1.9260061280432985\n"
     ]
    }
   ],
   "source": [
    "print(df['stars'].skew())\n",
    "print(df['stars'].kurtosis())"
   ]
  },
  {
   "cell_type": "markdown",
   "id": "c5a96424-6342-4b2d-b429-2d4d6cc15dd8",
   "metadata": {},
   "source": [
    "The skewness very close to zero indicates a highly symmetric distribution. The kurtosis << 3 suggests that the tails are lighter and the peak is way heavier than for a normal distribution."
   ]
  },
  {
   "cell_type": "markdown",
   "id": "07e58e64-3ffe-446e-953b-6e3809cb18fd",
   "metadata": {},
   "source": [
    "**4. Visualizations:**\n",
    "\n",
    "Plot a histogram to visualize the distribution of product ratings. Is there a specific rating that is more common?"
   ]
  },
  {
   "cell_type": "code",
   "execution_count": 53,
   "id": "98addb04-d2d7-44a7-b7eb-52be8655dd34",
   "metadata": {},
   "outputs": [
    {
     "data": {
      "image/png": "[encoded data removed]",
      "text/plain": [
       "<Figure size 640x480 with 1 Axes>"
      ]
     },
     "metadata": {},
     "output_type": "display_data"
    }
   ],
   "source": [
    "sns.histplot(df['stars'], bins = 20, color = \"salmon\");"
   ]
  },
  {
   "cell_type": "markdown",
   "id": "02261b42-ce4e-4502-ad47-bfa75fd766b2",
   "metadata": {},
   "source": [
    "The most common rating is the zero star one. For non zero ratings, most products are rated between 4 and 5 stars."
   ]
  },
  {
   "cell_type": "code",
   "execution_count": null,
   "id": "a9c5ff1d-3e3c-48f6-930e-4cbab2c1ad31",
   "metadata": {},
   "outputs": [],
   "source": []
  }
 ],
 "metadata": {
  "kernelspec": {
   "display_name": "Python 3 (ipykernel)",
   "language": "python",
   "name": "python3"
  },
  "language_info": {
   "codemirror_mode": {
    "name": "ipython",
    "version": 3
   },
   "file_extension": ".py",
   "mimetype": "text/x-python",
   "name": "python",
   "nbconvert_exporter": "python",
   "pygments_lexer": "ipython3",
   "version": "3.9.20"
  }
 },
 "nbformat": 4,
 "nbformat_minor": 5
}
